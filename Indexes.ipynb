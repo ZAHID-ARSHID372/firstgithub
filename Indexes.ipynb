{
 "cells": [
  {
   "cell_type": "markdown",
   "id": "e78d2d22-995b-4877-8d09-388fefcf5066",
   "metadata": {},
   "source": [
    "# Indexes\n"
   ]
  },
  {
   "cell_type": "code",
   "execution_count": 2,
   "id": "6a152af5-b751-44d7-99a3-02a2f63c3bed",
   "metadata": {},
   "outputs": [
    {
     "data": {
      "text/plain": [
       "'Samosas Pakoras'"
      ]
     },
     "execution_count": 2,
     "metadata": {},
     "output_type": "execute_result"
    }
   ],
   "source": [
    "# Make a string\n",
    "a = \"Samosas Pakoras\"\n",
    "a"
   ]
  },
  {
   "cell_type": "code",
   "execution_count": 4,
   "id": "9468e612-21fd-474b-83d8-8417dc5c35bf",
   "metadata": {},
   "outputs": [
    {
     "data": {
      "text/plain": [
       "'Samosas Pakoras'"
      ]
     },
     "execution_count": 4,
     "metadata": {},
     "output_type": "execute_result"
    }
   ],
   "source": [
    "a"
   ]
  },
  {
   "cell_type": "code",
   "execution_count": 12,
   "id": "6cd19be6-2050-4a8e-855c-b0ab2658c295",
   "metadata": {},
   "outputs": [
    {
     "data": {
      "text/plain": [
       "15"
      ]
     },
     "execution_count": 12,
     "metadata": {},
     "output_type": "execute_result"
    }
   ],
   "source": [
    "# Length of the indexes\n",
    "len(a)"
   ]
  },
  {
   "cell_type": "code",
   "execution_count": 8,
   "id": "fb6769f5-599a-4a69-b5df-24c4ee641538",
   "metadata": {},
   "outputs": [
    {
     "data": {
      "text/plain": [
       "'a'"
      ]
     },
     "execution_count": 8,
     "metadata": {},
     "output_type": "execute_result"
    }
   ],
   "source": [
    "a[0]\n",
    "a[1]"
   ]
  },
  {
   "cell_type": "code",
   "execution_count": 10,
   "id": "f19275d0-cd98-48b9-bb7f-ca3d60cfa85d",
   "metadata": {},
   "outputs": [
    {
     "data": {
      "text/plain": [
       "'a'"
      ]
     },
     "execution_count": 10,
     "metadata": {},
     "output_type": "execute_result"
    }
   ],
   "source": [
    "a[1]"
   ]
  },
  {
   "cell_type": "code",
   "execution_count": 16,
   "id": "7ef04b6a-0d25-4712-bda2-83b51fcdf334",
   "metadata": {},
   "outputs": [
    {
     "data": {
      "text/plain": [
       "'s'"
      ]
     },
     "execution_count": 16,
     "metadata": {},
     "output_type": "execute_result"
    }
   ],
   "source": [
    "a[14]"
   ]
  },
  {
   "cell_type": "code",
   "execution_count": 18,
   "id": "cd1b3aac-a29a-4ab4-ae8b-61b4e1e99537",
   "metadata": {},
   "outputs": [
    {
     "data": {
      "text/plain": [
       "'Samos'"
      ]
     },
     "execution_count": 18,
     "metadata": {},
     "output_type": "execute_result"
    }
   ],
   "source": [
    "a[0:5]"
   ]
  },
  {
   "cell_type": "code",
   "execution_count": 20,
   "id": "42dd64a4-65da-4819-b715-7b86f15eecd4",
   "metadata": {},
   "outputs": [
    {
     "data": {
      "text/plain": [
       "'r'"
      ]
     },
     "execution_count": 20,
     "metadata": {},
     "output_type": "execute_result"
    }
   ],
   "source": [
    "a[-3]"
   ]
  },
  {
   "cell_type": "markdown",
   "id": "68029ee7-36d8-43e8-9fe8-0a771301fd04",
   "metadata": {},
   "source": [
    "## String Methods"
   ]
  },
  {
   "cell_type": "code",
   "execution_count": 27,
   "id": "9903daae-21ae-403c-867e-8bf132ed04d3",
   "metadata": {},
   "outputs": [
    {
     "data": {
      "text/plain": [
       "'biryani'"
      ]
     },
     "execution_count": 27,
     "metadata": {},
     "output_type": "execute_result"
    }
   ],
   "source": [
    "food = \"biryani\"\n",
    "food"
   ]
  },
  {
   "cell_type": "code",
   "execution_count": 31,
   "id": "9d8cfeeb-1214-41d6-83d0-d2ab4b95b9b8",
   "metadata": {},
   "outputs": [
    {
     "data": {
      "text/plain": [
       "7"
      ]
     },
     "execution_count": 31,
     "metadata": {},
     "output_type": "execute_result"
    }
   ],
   "source": [
    "len(food)"
   ]
  },
  {
   "cell_type": "code",
   "execution_count": 41,
   "id": "548d2738-0150-4291-b564-384d0621698d",
   "metadata": {},
   "outputs": [
    {
     "data": {
      "text/plain": [
       "'Biryani'"
      ]
     },
     "execution_count": 41,
     "metadata": {},
     "output_type": "execute_result"
    }
   ],
   "source": [
    "food.capitalize()"
   ]
  },
  {
   "cell_type": "code",
   "execution_count": 43,
   "id": "bf5e9a86-78d2-416a-a501-da89dff3bef3",
   "metadata": {},
   "outputs": [
    {
     "data": {
      "text/plain": [
       "'BIRYANI'"
      ]
     },
     "execution_count": 43,
     "metadata": {},
     "output_type": "execute_result"
    }
   ],
   "source": [
    "food.upper()"
   ]
  },
  {
   "cell_type": "code",
   "execution_count": 45,
   "id": "c49c57f1-4642-470a-9e97-fb84e118fd82",
   "metadata": {},
   "outputs": [
    {
     "data": {
      "text/plain": [
       "'biryani'"
      ]
     },
     "execution_count": 45,
     "metadata": {},
     "output_type": "execute_result"
    }
   ],
   "source": [
    "food.lower()"
   ]
  },
  {
   "cell_type": "code",
   "execution_count": 49,
   "id": "cdeed7b0-0809-49c8-938e-ba9b5013972d",
   "metadata": {},
   "outputs": [
    {
     "data": {
      "text/plain": [
       "'birshani'"
      ]
     },
     "execution_count": 49,
     "metadata": {},
     "output_type": "execute_result"
    }
   ],
   "source": [
    "food.replace(\"y\", \"sh\")"
   ]
  },
  {
   "cell_type": "code",
   "execution_count": 51,
   "id": "323df5f3-f000-44fb-b776-615e2bbd00db",
   "metadata": {},
   "outputs": [
    {
     "data": {
      "text/plain": [
       "'Baba_Ammar with Ammar Tufail'"
      ]
     },
     "execution_count": 51,
     "metadata": {},
     "output_type": "execute_result"
    }
   ],
   "source": [
    "# Counting of alphabitc in a string\n",
    "name = \"Baba_Ammar with Ammar Tufail\"\n",
    "name"
   ]
  },
  {
   "cell_type": "code",
   "execution_count": 55,
   "id": "223b68d2-0774-415d-be7e-fab104266fd9",
   "metadata": {},
   "outputs": [
    {
     "data": {
      "text/plain": [
       "1"
      ]
     },
     "execution_count": 55,
     "metadata": {},
     "output_type": "execute_result"
    }
   ],
   "source": [
    "name.count(\"Ba\")"
   ]
  },
  {
   "cell_type": "markdown",
   "id": "156c8611-b12a-4fbf-975d-209b3d051e82",
   "metadata": {},
   "source": [
    "### Finding an index number in a string\n"
   ]
  },
  {
   "cell_type": "code",
   "execution_count": 61,
   "id": "653710ec-d550-4e73-a111-c1b3edec0e24",
   "metadata": {},
   "outputs": [
    {
     "data": {
      "text/plain": [
       "'Baba_Ammar with Ammar Tufail'"
      ]
     },
     "execution_count": 61,
     "metadata": {},
     "output_type": "execute_result"
    }
   ],
   "source": [
    "name = \"Baba_Ammar with Ammar Tufail\"\n",
    "name"
   ]
  },
  {
   "cell_type": "code",
   "execution_count": 65,
   "id": "85562cfb-eaba-4da2-a9b4-4a9d8e3d79ad",
   "metadata": {},
   "outputs": [
    {
     "data": {
      "text/plain": [
       "0"
      ]
     },
     "execution_count": 65,
     "metadata": {},
     "output_type": "execute_result"
    }
   ],
   "source": [
    "name.find(\"B\")\n"
   ]
  },
  {
   "cell_type": "code",
   "execution_count": 67,
   "id": "ded9595a-2a52-4a0b-a383-cd3616d9b58f",
   "metadata": {},
   "outputs": [
    {
     "data": {
      "text/plain": [
       "'I love somasoa, pakora, biryani, karahi'"
      ]
     },
     "execution_count": 67,
     "metadata": {},
     "output_type": "execute_result"
    }
   ],
   "source": [
    "# Split a string\n",
    "food = \"I love somasoa, pakora, biryani, karahi\"\n",
    "food"
   ]
  },
  {
   "cell_type": "code",
   "execution_count": 69,
   "id": "f431c2f6-76c0-4595-acfc-2ef2e827f4ce",
   "metadata": {},
   "outputs": [
    {
     "data": {
      "text/plain": [
       "['I love somasoa', ' pakora', ' biryani', ' karahi']"
      ]
     },
     "execution_count": 69,
     "metadata": {},
     "output_type": "execute_result"
    }
   ],
   "source": [
    "food.split(\",\")"
   ]
  },
  {
   "cell_type": "markdown",
   "id": "fbb07910-e683-4a70-a944-752dca9ac15c",
   "metadata": {},
   "source": [
    "Basic Data Structures in Python\n",
    "1. Tuples\n",
    "2. list\n",
    "3. datasets\n",
    "4. sets\n",
    "   "
   ]
  },
  {
   "cell_type": "markdown",
   "id": "19b50b69-f7a4-4e02-a058-4d05938e6ccb",
   "metadata": {},
   "source": [
    "## 1. Tuples\n",
    "order collection elements\n",
    "and enclosed in () parenthesis\n",
    "Different kind of elements can  be stored\n",
    "    "
   ]
  },
  {
   "cell_type": "code",
   "execution_count": 74,
   "id": "5817cb8b-bdea-4a3f-84b2-6f29602bb90d",
   "metadata": {},
   "outputs": [
    {
     "data": {
      "text/plain": [
       "(1, 'Python', True, 2.5)"
      ]
     },
     "execution_count": 74,
     "metadata": {},
     "output_type": "execute_result"
    }
   ],
   "source": [
    "tuple = (1, \"Python\", True, 2.5)\n",
    "tuple"
   ]
  }
 ],
 "metadata": {
  "kernelspec": {
   "display_name": "Python 3 (ipykernel)",
   "language": "python",
   "name": "python3"
  },
  "language_info": {
   "codemirror_mode": {
    "name": "ipython",
    "version": 3
   },
   "file_extension": ".py",
   "mimetype": "text/x-python",
   "name": "python",
   "nbconvert_exporter": "python",
   "pygments_lexer": "ipython3",
   "version": "3.12.7"
  }
 },
 "nbformat": 4,
 "nbformat_minor": 5
}
